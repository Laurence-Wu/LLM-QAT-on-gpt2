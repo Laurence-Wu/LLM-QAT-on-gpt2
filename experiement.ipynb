{
 "cells": [
  {
   "cell_type": "code",
   "execution_count": null,
   "id": "6ceaf374",
   "metadata": {},
   "outputs": [
    {
     "name": "stdout",
     "output_type": "stream",
     "text": [
      "10570\n",
      "(10570, 5)\n",
      "{'id': Value('string'), 'title': Value('string'), 'context': Value('string'), 'question': Value('string'), 'answers': {'text': List(Value('string')), 'answer_start': List(Value('int32'))}}\n",
      "['id', 'title', 'context', 'question', 'answers']\n"
     ]
    },
    {
     "name": "stderr",
     "output_type": "stream",
     "text": [
      "100%|██████████| 10570/10570 [00:00<00:00, 11698.95it/s]\n"
     ]
    }
   ],
   "source": [
    "import torch\n",
    "from torch.utils.data import Dataset, DataLoader\n",
    "from datasets import load_dataset\n",
    "from tqdm import tqdm\n",
    "\n",
    "dataset = load_dataset('squad', split=\"validation\")\n",
    "\n",
    "# Number of examples\n",
    "print(len(dataset))  # Total number of samples\n",
    "\n",
    "# Shape/structure\n",
    "print(dataset.shape)  # Returns\n",
    "\n",
    "\n",
    "# Column names and types\n",
    "print(dataset.features)  # Shows all\n",
    "\n",
    "print(dataset.column_names)  # List of\n",
    "\n",
    "# First example to see structure\n",
    "items = []        \n",
    "\n",
    "for load_examples in tqdm(dataset):\n",
    "    items.append(load_examples)\n",
    "\n",
    "\n",
    "\n"
   ]
  },
  {
   "cell_type": "code",
   "execution_count": 20,
   "id": "340748e0",
   "metadata": {},
   "outputs": [
    {
     "name": "stdout",
     "output_type": "stream",
     "text": [
      "{'dataset': Dataset({\n",
      "    features: ['id', 'title', 'context', 'question', 'answers'],\n",
      "    num_rows: 10570\n",
      "}), 'num_workers': 2, 'prefetch_factor': 2, 'pin_memory': True, 'pin_memory_device': '', 'timeout': 0, 'worker_init_fn': None, '_DataLoader__multiprocessing_context': None, 'in_order': True, '_dataset_kind': 0, 'batch_size': 16, 'drop_last': False, 'sampler': <torch.utils.data.sampler.RandomSampler object at 0x7a1bcec06ce0>, 'batch_sampler': <torch.utils.data.sampler.BatchSampler object at 0x7a1bdff6a2c0>, 'generator': None, 'collate_fn': <function default_collate at 0x7a1c535732e0>, 'persistent_workers': False, '_DataLoader__initialized': True, '_IterableDataset_len_called': None, '_iterator': None}\n",
      "0 {'id': ['572963876aef051400154dd6', '57300137b2c2fd1400568717', '572fac17947a6a140053cb54', '572700c8dd62a815002e976b', '57269e80f1498d1400e8e522', '56f85e71a6d7ea1400e175c7', '57097d63ed30961900e841fd', '56bf467d3aeaaa14008c95a5', '5726cfa3708984140094d20b', '56bf301c3aeaaa14008c954d', '5727ec062ca10214002d99b8', '56de51c64396321400ee27f8', '5726e5ac708984140094d51d', '57113ba6b654c5140001fc21', '57296b151d046914007793f2', '5733647e4776f419006609af'], 'title': ['Chloroplast', 'Islamism', 'Scottish_Parliament', 'Victoria_and_Albert_Museum', 'Newcastle_upon_Tyne', 'Martin_Luther', 'Sky_(United_Kingdom)', 'Super_Bowl_50', 'Victoria_and_Albert_Museum', 'Super_Bowl_50', 'Economic_inequality', 'Normans', 'American_Broadcasting_Company', 'Steam_engine', 'Chloroplast', 'Warsaw'], 'context': [\"Apicomplexans are another group of chromalveolates. Like the helicosproidia, they're parasitic, and have a nonphotosynthetic chloroplast. They were once thought to be related to the helicosproidia, but it is now known that the helicosproida are green algae rather than chromalveolates. The apicomplexans include Plasmodium, the malaria parasite. Many apicomplexans keep a vestigial red algal derived chloroplast called an apicoplast, which they inherited from their ancestors. Other apicomplexans like Cryptosporidium have lost the chloroplast completely. Apicomplexans store their energy in amylopectin starch granules that are located in their cytoplasm, even though they are nonphotosynthetic.\", 'Sayyid Abul Ala Maududi was an important early twentieth-century figure in the Islamic revival in India, and then after independence from Britain, in Pakistan. Trained as a lawyer he chose the profession of journalism, and wrote about contemporary issues and most importantly about Islam and Islamic law. Maududi founded the Jamaat-e-Islami party in 1941 and remained its leader until 1972. However, Maududi had much more impact through his writing than through his political organising. His extremely influential books (translated into many languages) placed Islam in a modern context, and influenced not only conservative ulema but liberal modernizer Islamists such as al-Faruqi, whose \"Islamization of Knowledge\" carried forward some of Maududi\\'s key principles.', 'Following a referendum in 1997, in which the Scottish electorate voted for devolution, the current Parliament was convened by the Scotland Act 1998, which sets out its powers as a devolved legislature. The Act delineates the legislative competence of the Parliament – the areas in which it can make laws – by explicitly specifying powers that are \"reserved\" to the Parliament of the United Kingdom. The Scottish Parliament has the power to legislate in all areas that are not explicitly reserved to Westminster. The British Parliament retains the ability to amend the terms of reference of the Scottish Parliament, and can extend or reduce the areas in which it can make laws. The first meeting of the new Parliament took place on 12 May 1999.', \"Sculptors both British and Europeans who were based in Britain and whose work is in the collection include Nicholas Stone, Caius Gabriel Cibber, Grinling Gibbons, John Michael Rysbrack, Louis-François Roubiliac, Peter Scheemakers, Sir Henry Cheere, Agostino Carlini, Thomas Banks, Joseph Nollekens, Joseph Wilton, John Flaxman, Sir Francis Chantrey, John Gibson, Edward Hodges Baily, Lord Leighton, Alfred Stevens, Thomas Brock, Alfred Gilbert, George Frampton, and Eric Gill. A sample of some of these sculptors' work is on display in the British Galleries.\", 'Charles Avison, the leading British composer of concertos in the 18th century, was born in Newcastle upon Tyne in 1709 and died there in 1770. Basil Hume, Archbishop of Westminster, was born in the city in 1923. Vice Admiral Cuthbert Collingwood, 1st Baron Collingwood, was born in the city. Ironmaster, metallurgist, and member of parliament Isaac Lowthian Bell was born in the city in 1816. Other notable people born in or associated with Newcastle include: engineer and industrialist Lord Armstrong, engineer and father of the modern steam railways George Stephenson, his son, also an engineer, Robert Stephenson, engineer and inventor of the steam turbine Sir Charles Parsons, inventor of the incandescent light bulb Sir Joseph Swan, modernist poet Basil Bunting, and Lord Chief Justice Peter Taylor. Portuguese writer Eça de Queiroz was a diplomat in Newcastle from late 1874 until April 1879—his most productive literary period. Former Prime Minister of Thailand Abhisit Vejjajiva, was born in the city.', 'Luther and his colleagues introduced the new order of worship during their visitation of the Electorate of Saxony, which began in 1527. They also assessed the standard of pastoral care and Christian education in the territory. \"Merciful God, what misery I have seen,\" Luther wrote, \"the common people knowing nothing at all of Christian doctrine ... and unfortunately many pastors are well-nigh unskilled and incapable of teaching.\"', 'The agreements include fixed annual carriage fees of £30m for the channels with both channel suppliers able to secure additional capped payments if their channels meet certain performance-related targets. Currently there is no indication as to whether the new deal includes the additional Video On Demand and High Definition content which had previously been offered by BSkyB. As part of the agreements, both BSkyB and Virgin Media agreed to terminate all High Court proceedings against each other relating to the carriage of their respective basic channels.', 'Concerns were raised over whether Levi\\'s Stadium\\'s field was of a high enough quality to host a Super Bowl; during the inaugural season, the field had to be re-sodded multiple times due to various issues, and during a week 6 game earlier in the 2015 season, a portion of the turf collapsed under Baltimore Ravens kicker Justin Tucker, causing him to slip and miss a field goal, although the field has not had any major issues since. As is customary for Super Bowl games played at natural grass stadiums, the NFL re-sodded the field with a new playing surface; a hybrid Bermuda 419 turf. NFL and Atlanta Braves field director Ed Mangan stated that the field was in \"great shape\" for gameday. However, the turf showed problem throughout the game, with a number of players needing to change their cleats during the game and player slipping during plays all throughout the game.', 'The Victoria and Albert Museum’s Word and Image Department was under the same pressure being felt in archives around the world, to digitize their collection. A large scale digitization project began in 2007 in that department. That project was entitled the Factory Project to reference Andy Warhol and to create a factory to completely digitize the collection. The first step of the Factory Project was to take photographs utilizing digital cameras. The Word and Image Department had a collection of old photos but they were in black and white and in variant conditions, so new photos were shot. Those new photographs will be accessible to researchers to the Victoria and Albert Museum web-site. 15,000 images were taken during the first year of the Factory Project, including drawings, watercolors, computer-generated art, photographs, posters, and woodcuts. The second step of the Factory Project is to catalog everything. The third step of the Factory Project is to audit the collection. All of those items which were photographed and cataloged, must be audited to make sure everything listed as being in the collection was physically found during the creation of the Factory Project. The fourth goal of the Factory Project is conservation, which means performing some basic preventable procedures to those items in the department. There is a \"Search the Collections\" feature on the Victoria and Albert web-site. The main impetus behind the large-scale digitization project called the Factory Project was to list more items in the collections in those computer databases.', \"Following their loss in the divisional round of the previous season's playoffs, the Denver Broncos underwent numerous coaching changes, including a mutual parting with head coach John Fox (who had won four divisional championships in his four years as Broncos head coach), and the hiring of Gary Kubiak as the new head coach. Under Kubiak, the Broncos planned to install a run-oriented offense with zone blocking to blend in with quarterback Peyton Manning's shotgun passing skills, but struggled with numerous changes and injuries to the offensive line, as well as Manning having his worst statistical season since his rookie year with the Indianapolis Colts in 1998, due to a plantar fasciitis injury in his heel that he had suffered since the summer, and the simple fact that Manning was getting old, as he turned 39 in the 2015 off-season. Although the team had a 7–0 start, Manning led the NFL in interceptions. In week 10, Manning suffered a partial tear of the plantar fasciitis in his left foot. He set the NFL's all-time record for career passing yards in this game, but was benched after throwing four interceptions in favor of backup quarterback Brock Osweiler, who took over as the starter for most of the remainder of the regular season. Osweiler was injured, however, leading to Manning's return during the Week 17 regular season finale, where the Broncos were losing 13–7 against the 4–11 San Diego Chargers, resulting in Manning re-claiming the starting quarterback position for the playoffs by leading the team to a key 27–20 win that enabled the team to clinch the number one overall AFC seed. Under defensive coordinator Wade Phillips, the Broncos' defense ranked number one in total yards allowed, passing yards allowed and sacks, and like the previous three seasons, the team has continued to set numerous individual, league and franchise records. With the defense carrying the team despite the issues with the offense, the Broncos finished the regular season with a 12–4 record and earned home-field advantage throughout the AFC playoffs.\", 'In a purely capitalist mode of production (i.e. where professional and labor organizations cannot limit the number of workers) the workers wages will not be controlled by these organizations, or by the employer, but rather by the market. Wages work in the same way as prices for any other good. Thus, wages can be considered as a function of market price of skill. And therefore, inequality is driven by this price. Under the law of supply and demand, the price of skill is determined by a race between the demand for the skilled worker and the supply of the skilled worker. \"On the other hand, markets can also concentrate wealth, pass environmental costs on to society, and abuse workers and consumers.\" \"Markets, by themselves, even when they are stable, often lead to high levels of inequality, outcomes that are widely viewed as unfair.\" Employers who offer a below market wage will find that their business is chronically understaffed. Their competitors will take advantage of the situation by offering a higher wage the best of their labor. For a businessman who has the profit motive as the prime interest, it is a losing proposition to offer below or above market wages to workers.', 'Normandy was the site of several important developments in the history of classical music in the 11th century. Fécamp Abbey and Saint-Evroul Abbey were centres of musical production and education. At Fécamp, under two Italian abbots, William of Volpiano and John of Ravenna, the system of denoting notes by letters was developed and taught. It is still the most common form of pitch representation in English- and German-speaking countries today. Also at Fécamp, the staff, around which neumes were oriented, was first developed and taught in the 11th century. Under the German abbot Isembard, La Trinité-du-Mont became a centre of musical composition.', \"ABC currently holds the broadcast rights to the Academy Awards, Emmy Awards (which are rotated across all four major networks on a year-to-year basis), American Music Awards, Disney Parks Christmas Day Parade, Tournament of Roses Parade, Country Music Association Awards and the CMA Music Festival. Since 2000, ABC has also owned the television rights to most of the Peanuts television specials, having acquired the broadcast rights from CBS, which originated the specials in 1965 with the debut of A Charlie Brown Christmas (other Peanuts specials broadcast annually by ABC, including A Charlie Brown Christmas, include It's the Great Pumpkin, Charlie Brown and A Charlie Brown Thanksgiving).\", \"Lead fusible plugs may be present in the crown of the boiler's firebox. If the water level drops, such that the temperature of the firebox crown increases significantly, the lead melts and the steam escapes, warning the operators, who may then manually suppress the fire. Except in the smallest of boilers the steam escape has little effect on dampening the fire. The plugs are also too small in area to lower steam pressure significantly, depressurizing the boiler. If they were any larger, the volume of escaping steam would itself endanger the crew.[citation needed]\", \"Endosymbiotic gene transfer is how we know about the lost chloroplasts in many chromalveolate lineages. Even if a chloroplast is eventually lost, the genes it donated to the former host's nucleus persist, providing evidence for the lost chloroplast's existence. For example, while diatoms (a heterokontophyte) now have a red algal derived chloroplast, the presence of many green algal genes in the diatom nucleus provide evidence that the diatom ancestor (probably the ancestor of all chromalveolates too) had a green algal derived chloroplast at some point, which was subsequently replaced by the red chloroplast.\", 'There are also many places commemorating the heroic history of Warsaw. Pawiak, an infamous German Gestapo prison now occupied by a Mausoleum of Memory of Martyrdom and the museum, is only the beginning of a walk in the traces of Heroic City. The Warsaw Citadel, an impressive 19th-century fortification built after the defeat of the November Uprising, was a place of martyr for the Poles. Another important monument, the statue of Little Insurgent located at the ramparts of the Old Town, commemorates the children who served as messengers and frontline troops in the Warsaw Uprising, while the impressive Warsaw Uprising Monument by Wincenty Kućma was erected in memory of the largest insurrection of World War II.'], 'question': ['Where do Apicomplexans store energy?', 'Who was an important early figure in the Islamic revival in India?', 'When was the current parliament of Scotland convened?', 'Which British sculptor whose work include the Queen Victoria memorial in front of Buckingham Palace is included in the V&A collection?', 'Who is known as the father of the modern steam railways?', 'What were many pastors unable to do?', 'Does the new deal include Video on demand and High Definition?', \"Which player did the turf collapse under during a game in the Levi's Stadium?\", 'The title of the digitization project was a reference to which artist?', 'How many years was John Fox the head coach of the Denver Broncos?', 'What happens when business underpays their workers?', 'Who were the two abbots at Fécamp Abbey?', 'When did a Charlie Brown Christmas debut?', 'What happens after the lead melts?', 'What do donated genes give evidence of?', 'What was the name of the infamous German Gestapo prison?'], 'answers': {'text': [['in amylopectin starch granules that are located in their cytoplasm', 'Sayyid Abul Ala Maududi', 'Following a referendum in 1997', 'Thomas Brock', 'George Stephenson', 'incapable of teaching', 'no', 'Justin Tucker', 'Andy Warhol', 'four', 'business is chronically understaffed', 'William of Volpiano and John of Ravenna', '1965', 'steam escapes', \"the lost chloroplast's existence\", 'Pawiak'], ['amylopectin starch granules', 'Sayyid Abul Ala Maududi', '1998', 'Thomas Brock', 'George Stephenson', 'teaching', 'no indication', 'Justin Tucker', 'Andy Warhol', 'four', 'their business is chronically understaffed', 'William of Volpiano and John of Ravenna', '1965', 'steam escapes,', \"for the lost chloroplast's existence\", 'Pawiak'], ['amylopectin starch granules', 'Sayyid Abul Ala Maududi', '1998', 'Thomas Brock', 'George Stephenson,', 'teaching', 'no indication', 'Tucker', 'Andy Warhol', 'four', 'chronically understaffed', 'William of Volpiano and John of Ravenna', '1965', 'the steam escapes', \"the lost chloroplast's existence\", 'Pawiak']], 'answer_start': tensor([[589, 592, 592],\n",
      "        [  0,   0,   0],\n",
      "        [  0, 143, 143],\n",
      "        [415, 415, 415],\n",
      "        [552, 552, 552],\n",
      "        [409, 422, 422],\n",
      "        [224, 224, 224],\n",
      "        [320, 320, 327],\n",
      "        [286, 286, 286],\n",
      "        [201, 238, 238],\n",
      "        [904, 898, 916],\n",
      "        [234, 234, 234],\n",
      "        [476, 476, 476],\n",
      "        [193, 193, 189],\n",
      "        [228, 224, 228],\n",
      "        [ 71,  71,  71]])}}\n",
      "True\n"
     ]
    }
   ],
   "source": [
    "import torch\n",
    "from torch.utils.data import Dataset, DataLoader\n",
    "from datasets import load_dataset\n",
    "from tqdm import tqdm\n",
    "\n",
    "dataset = load_dataset('squad', split=\"validation\")\n",
    "dataset.set_format(type='torch')\n",
    "loader = DataLoader(\n",
    "    dataset,\n",
    "    batch_size=16,\n",
    "    shuffle=True,\n",
    "    num_workers=2,\n",
    "    pin_memory=True,\n",
    ")\n",
    "\n",
    "print(loader.__dict__)\n",
    "\n",
    "for i, batch in enumerate(loader):\n",
    "    print(i, batch)\n",
    "    break\n",
    "print(torch.cuda.is_available())"
   ]
  }
 ],
 "metadata": {
  "kernelspec": {
   "display_name": "Python (WSL)",
   "language": "python",
   "name": "wsl_env"
  },
  "language_info": {
   "codemirror_mode": {
    "name": "ipython",
    "version": 3
   },
   "file_extension": ".py",
   "mimetype": "text/x-python",
   "name": "python",
   "nbconvert_exporter": "python",
   "pygments_lexer": "ipython3",
   "version": "3.10.12"
  }
 },
 "nbformat": 4,
 "nbformat_minor": 5
}
